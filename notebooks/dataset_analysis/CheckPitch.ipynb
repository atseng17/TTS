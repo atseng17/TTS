{
 "cells": [
  {
   "cell_type": "code",
   "execution_count": 1,
   "metadata": {},
   "outputs": [],
   "source": [
    "%load_ext autoreload\n",
    "%autoreload 2"
   ]
  },
  {
   "cell_type": "code",
   "execution_count": 1,
   "metadata": {},
   "outputs": [],
   "source": [
    "import numpy as np\n",
    "import glob\n",
    "from TTS.utils.audio import AudioProcessor\n",
    "from TTS.config.shared_configs import BaseAudioConfig\n",
    "from TTS.tts.utils.visual import plot_pitch"
   ]
  },
  {
   "cell_type": "code",
   "execution_count": 2,
   "metadata": {},
   "outputs": [
    {
     "name": "stdout",
     "output_type": "stream",
     "text": [
      "80\n"
     ]
    }
   ],
   "source": [
    "# pitch_path = \"/home/ubuntu/TTS/recipes/ljspeech/fast_pitch/f0_cache\"\n",
    "# wav_path = \"/home/ubuntu/TTS/recipes/ljspeech/LJSpeech-1.1/wavs\"\n",
    "# wav_files = glob.glob(\"/home/ubuntu/TTS/recipes/ljspeech/LJSpeech-1.1/wavs/*.wav\")\n",
    "# print(len(wav_files))\n",
    "\n",
    "pitch_path = \"/mnt/aibb_data/development/atseng/VCproject/trained_models/fast_pitch/f0_cache\"\n",
    "wav_path = \"/mnt/aibb_data/development/atseng/VCproject/LibriTTS/dev-clean/84/121123\"\n",
    "wav_files = glob.glob(\"/mnt/aibb_data/development/atseng/VCproject/LibriTTS/dev-clean/84/121123/*.wav\")\n",
    "print(len(wav_files))\n",
    "\n",
    "\n",
    "\n",
    "\n",
    "\n"
   ]
  },
  {
   "cell_type": "code",
   "execution_count": 6,
   "metadata": {},
   "outputs": [
    {
     "name": "stdout",
     "output_type": "stream",
     "text": [
      " > Setting up Audio Processor...\n",
      " | > sample_rate:24000\n",
      " | > resample:False\n",
      " | > num_mels:80\n",
      " | > log_func:np.log\n",
      " | > min_level_db:-100\n",
      " | > frame_shift_ms:None\n",
      " | > frame_length_ms:None\n",
      " | > ref_level_db:20\n",
      " | > fft_size:1024\n",
      " | > power:1.5\n",
      " | > preemphasis:0.0\n",
      " | > griffin_lim_iters:60\n",
      " | > signal_norm:False\n",
      " | > symmetric_norm:True\n",
      " | > mel_fmin:0\n",
      " | > mel_fmax:8000\n",
      " | > spec_gain:1.0\n",
      " | > stft_pad_mode:reflect\n",
      " | > max_norm:4.0\n",
      " | > clip_norm:True\n",
      " | > do_trim_silence:True\n",
      " | > trim_db:23.0\n",
      " | > do_sound_norm:False\n",
      " | > do_amp_to_db_linear:True\n",
      " | > do_amp_to_db_mel:True\n",
      " | > stats_path:None\n",
      " | > base:2.718281828459045\n",
      " | > hop_length:256\n",
      " | > win_length:1024\n"
     ]
    }
   ],
   "source": [
    "# ap = AudioProcessor(**BaseAudioConfig( sample_rate=22050,\n",
    "#     do_trim_silence=True,\n",
    "#     trim_db=60.0,\n",
    "#     signal_norm=False,\n",
    "#     mel_fmin=0.0,\n",
    "#     mel_fmax=8000,\n",
    "#     spec_gain=1.0,\n",
    "#     log_func=\"np.log\",\n",
    "#     ref_level_db=20,\n",
    "#     preemphasis=0.0,))\n",
    "ap = AudioProcessor(**BaseAudioConfig(\n",
    "#     sample_rate=22050,\n",
    "    sample_rate=24000,\n",
    "    do_trim_silence=True,\n",
    "    trim_db=23.0,\n",
    "    signal_norm=False,\n",
    "    mel_fmin=0.0,\n",
    "    mel_fmax=8000,\n",
    "    spec_gain=1.0,\n",
    "    log_func=\"np.log\",\n",
    "    ref_level_db=20,\n",
    "    preemphasis=0.0,\n",
    "))"
   ]
  },
  {
   "cell_type": "code",
   "execution_count": 15,
   "metadata": {},
   "outputs": [],
   "source": [
    "pitch_files = [wf.replace(\".wav\", \"_pitch.npy\").replace(wav_path, pitch_path) for wf in wav_files]"
   ]
  },
  {
   "cell_type": "code",
   "execution_count": 11,
   "metadata": {},
   "outputs": [],
   "source": [
    "# idx = 100\n",
    "# wav_file = wav_files[idx]\n",
    "# pitch_file = pitch_files[idx]\n",
    "# wav_file = \"/home/ubuntu/TTS/recipes/ljspeech/fast_pitch/../LJSpeech-1.1/wavs/LJ011-0097.wav\"\n",
    "# pitch_file = \"/home/ubuntu/TTS/recipes/ljspeech/fast_pitch/f0_cache/LJ011-0097_pitch.npy\"\n",
    "\n",
    "wav_file = \"/mnt/aibb_data/development/atseng/VCproject/LibriTTS/dev-clean/84/121123/84_121123_000008_000000.wav\"\n",
    "pitch_file = \"/mnt/aibb_data/development/atseng/VCproject/trained_models/fast_pitch/f0_cache/84_121123_000008_000000_pitch.npy\"\n",
    "pitch = np.load(pitch_file)\n",
    "wav = ap.load_wav(wav_file)\n",
    "spec = ap.melspectrogram(wav)"
   ]
  },
  {
   "cell_type": "code",
   "execution_count": 26,
   "metadata": {},
   "outputs": [],
   "source": [
    "font = {'family' : 'normal',\n",
    "        'size'   : 44\n",
    "       }\n",
    "import matplotlib\n",
    "import matplotlib.pyplot as plt\n",
    "\n",
    "matplotlib.rc('font', **font)\n",
    "fig = plot_pitch(pitch, spec.T)\n",
    "fig.savefig('/home/atseng/SCRATCH/DL/project/TTS/pitch_example_LibriTTS.png')\n",
    "# plt.savefig('/home/atseng/SCRATCH/DL/project/TTS/ddd.png')"
   ]
  },
  {
   "cell_type": "code",
   "execution_count": null,
   "metadata": {},
   "outputs": [],
   "source": []
  }
 ],
 "metadata": {
  "interpreter": {
   "hash": "822ce188d9bce5372c4adbb11364eeb49293228c2224eb55307f4664778e7f56"
  },
  "kernelspec": {
   "display_name": "Python 3 (ipykernel)",
   "language": "python",
   "name": "python3"
  },
  "language_info": {
   "codemirror_mode": {
    "name": "ipython",
    "version": 3
   },
   "file_extension": ".py",
   "mimetype": "text/x-python",
   "name": "python",
   "nbconvert_exporter": "python",
   "pygments_lexer": "ipython3",
   "version": "3.8.6"
  }
 },
 "nbformat": 4,
 "nbformat_minor": 2
}
